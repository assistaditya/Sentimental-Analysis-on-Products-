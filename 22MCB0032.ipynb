{
  "nbformat": 4,
  "nbformat_minor": 0,
  "metadata": {
    "colab": {
      "provenance": [],
      "gpuType": "T4"
    },
    "kernelspec": {
      "name": "python3",
      "display_name": "Python 3"
    },
    "language_info": {
      "name": "python"
    }
  },
  "cells": [
    {
      "cell_type": "code",
      "source": [
        "!cp \"/content/drive/MyDrive/1429_1.csv\" \"/content/\""
      ],
      "metadata": {
        "id": "MEndoQgQKKIx"
      },
      "execution_count": null,
      "outputs": []
    },
    {
      "cell_type": "markdown",
      "source": [
        "**NAIVE BAYES**"
      ],
      "metadata": {
        "id": "A6qAbJsF6RNa"
      }
    },
    {
      "cell_type": "code",
      "source": [
        "# Importing the libraries\n",
        "import numpy as np\n",
        "import matplotlib.pyplot as plt\n",
        "import pandas as pd\n",
        "import random"
      ],
      "metadata": {
        "id": "eda3gG0Q6WDt"
      },
      "execution_count": null,
      "outputs": []
    },
    {
      "cell_type": "code",
      "source": [
        "df = pd.read_csv('/content/1429_1.csv',skiprows=[16022])\n",
        "print(df)"
      ],
      "metadata": {
        "colab": {
          "base_uri": "https://localhost:8080/"
        },
        "id": "6TnhTYVN6Yiz",
        "outputId": "971bef63-35fa-42c4-cc9b-45a878191365"
      },
      "execution_count": null,
      "outputs": [
        {
          "output_type": "stream",
          "name": "stdout",
          "text": [
            "                         id  \\\n",
            "0      AVqkIhwDv8e3D1O-lebb   \n",
            "1      AVqkIhwDv8e3D1O-lebb   \n",
            "2      AVqkIhwDv8e3D1O-lebb   \n",
            "3      AVqkIhwDv8e3D1O-lebb   \n",
            "4      AVqkIhwDv8e3D1O-lebb   \n",
            "...                     ...   \n",
            "34654  AVpfiBlyLJeJML43-4Tp   \n",
            "34655  AVpfiBlyLJeJML43-4Tp   \n",
            "34656  AVpfiBlyLJeJML43-4Tp   \n",
            "34657  AVpfiBlyLJeJML43-4Tp   \n",
            "34658  AVpfiBlyLJeJML43-4Tp   \n",
            "\n",
            "                                                    name       asins   brand  \\\n",
            "0      All-New Fire HD 8 Tablet, 8 HD Display, Wi-Fi,...  B01AHB9CN2  Amazon   \n",
            "1      All-New Fire HD 8 Tablet, 8 HD Display, Wi-Fi,...  B01AHB9CN2  Amazon   \n",
            "2      All-New Fire HD 8 Tablet, 8 HD Display, Wi-Fi,...  B01AHB9CN2  Amazon   \n",
            "3      All-New Fire HD 8 Tablet, 8 HD Display, Wi-Fi,...  B01AHB9CN2  Amazon   \n",
            "4      All-New Fire HD 8 Tablet, 8 HD Display, Wi-Fi,...  B01AHB9CN2  Amazon   \n",
            "...                                                  ...         ...     ...   \n",
            "34654                                                NaN  B006GWO5WK  Amazon   \n",
            "34655                                                NaN  B006GWO5WK  Amazon   \n",
            "34656                                                NaN  B006GWO5WK  Amazon   \n",
            "34657                                                NaN  B006GWO5WK  Amazon   \n",
            "34658                                                NaN  B006GWO5WK  Amazon   \n",
            "\n",
            "                                              categories  \\\n",
            "0      Electronics,iPad & Tablets,All Tablets,Fire Ta...   \n",
            "1      Electronics,iPad & Tablets,All Tablets,Fire Ta...   \n",
            "2      Electronics,iPad & Tablets,All Tablets,Fire Ta...   \n",
            "3      Electronics,iPad & Tablets,All Tablets,Fire Ta...   \n",
            "4      Electronics,iPad & Tablets,All Tablets,Fire Ta...   \n",
            "...                                                  ...   \n",
            "34654  Computers/Tablets & Networking,Tablet & eBook ...   \n",
            "34655  Computers/Tablets & Networking,Tablet & eBook ...   \n",
            "34656  Computers/Tablets & Networking,Tablet & eBook ...   \n",
            "34657  Computers/Tablets & Networking,Tablet & eBook ...   \n",
            "34658  Computers/Tablets & Networking,Tablet & eBook ...   \n",
            "\n",
            "                                                    keys  \\\n",
            "0      841667104676,amazon/53004484,amazon/b01ahb9cn2...   \n",
            "1      841667104676,amazon/53004484,amazon/b01ahb9cn2...   \n",
            "2      841667104676,amazon/53004484,amazon/b01ahb9cn2...   \n",
            "3      841667104676,amazon/53004484,amazon/b01ahb9cn2...   \n",
            "4      841667104676,amazon/53004484,amazon/b01ahb9cn2...   \n",
            "...                                                  ...   \n",
            "34654  newamazonkindlefirehd9wpowerfastadaptercharger...   \n",
            "34655  newamazonkindlefirehd9wpowerfastadaptercharger...   \n",
            "34656  newamazonkindlefirehd9wpowerfastadaptercharger...   \n",
            "34657  newamazonkindlefirehd9wpowerfastadaptercharger...   \n",
            "34658  newamazonkindlefirehd9wpowerfastadaptercharger...   \n",
            "\n",
            "                       manufacturer              reviews.date  \\\n",
            "0                            Amazon  2017-01-13T00:00:00.000Z   \n",
            "1                            Amazon  2017-01-13T00:00:00.000Z   \n",
            "2                            Amazon  2017-01-13T00:00:00.000Z   \n",
            "3                            Amazon  2017-01-13T00:00:00.000Z   \n",
            "4                            Amazon  2017-01-12T00:00:00.000Z   \n",
            "...                             ...                       ...   \n",
            "34654  Amazon Digital Services, Inc      2012-09-18T00:00:00Z   \n",
            "34655  Amazon Digital Services, Inc      2012-11-21T00:00:00Z   \n",
            "34656  Amazon Digital Services, Inc      2012-10-19T00:00:00Z   \n",
            "34657  Amazon Digital Services, Inc      2012-10-31T00:00:00Z   \n",
            "34658  Amazon Digital Services, Inc      2012-12-23T00:00:00Z   \n",
            "\n",
            "          reviews.dateAdded  \\\n",
            "0      2017-07-03T23:33:15Z   \n",
            "1      2017-07-03T23:33:15Z   \n",
            "2      2017-07-03T23:33:15Z   \n",
            "3      2017-07-03T23:33:15Z   \n",
            "4      2017-07-03T23:33:15Z   \n",
            "...                     ...   \n",
            "34654                   NaN   \n",
            "34655                   NaN   \n",
            "34656                   NaN   \n",
            "34657                   NaN   \n",
            "34658                   NaN   \n",
            "\n",
            "                                        reviews.dateSeen  ...  \\\n",
            "0      2017-06-07T09:04:00.000Z,2017-04-30T00:45:00.000Z  ...   \n",
            "1      2017-06-07T09:04:00.000Z,2017-04-30T00:45:00.000Z  ...   \n",
            "2      2017-06-07T09:04:00.000Z,2017-04-30T00:45:00.000Z  ...   \n",
            "3      2017-06-07T09:04:00.000Z,2017-04-30T00:45:00.000Z  ...   \n",
            "4      2017-06-07T09:04:00.000Z,2017-04-30T00:45:00.000Z  ...   \n",
            "...                                                  ...  ...   \n",
            "34654                               2015-08-29T00:00:00Z  ...   \n",
            "34655                               2015-09-02T00:00:00Z  ...   \n",
            "34656                               2015-09-04T00:00:00Z  ...   \n",
            "34657                               2015-09-01T00:00:00Z  ...   \n",
            "34658                               2015-11-01T00:00:00Z  ...   \n",
            "\n",
            "      reviews.doRecommend reviews.id  reviews.numHelpful  reviews.rating  \\\n",
            "0                    True        NaN                 0.0             5.0   \n",
            "1                    True        NaN                 0.0             5.0   \n",
            "2                    True        NaN                 0.0             5.0   \n",
            "3                    True        NaN                 0.0             4.0   \n",
            "4                    True        NaN                 0.0             5.0   \n",
            "...                   ...        ...                 ...             ...   \n",
            "34654                 NaN        NaN                 NaN             3.0   \n",
            "34655                 NaN        NaN                 NaN             1.0   \n",
            "34656                 NaN        NaN                 NaN             1.0   \n",
            "34657                 NaN        NaN                 NaN             1.0   \n",
            "34658                 NaN        NaN                 NaN             1.0   \n",
            "\n",
            "                                      reviews.sourceURLs  \\\n",
            "0      http://reviews.bestbuy.com/3545/5620406/review...   \n",
            "1      http://reviews.bestbuy.com/3545/5620406/review...   \n",
            "2      http://reviews.bestbuy.com/3545/5620406/review...   \n",
            "3      http://reviews.bestbuy.com/3545/5620406/review...   \n",
            "4      http://reviews.bestbuy.com/3545/5620406/review...   \n",
            "...                                                  ...   \n",
            "34654  http://www.amazon.com/Amazon-PowerFast-Adapter...   \n",
            "34655  http://www.amazon.com/Amazon-PowerFast-Adapter...   \n",
            "34656  http://www.amazon.com/Amazon-PowerFast-Adapter...   \n",
            "34657  http://www.amazon.com/Amazon-PowerFast-Adapter...   \n",
            "34658  http://www.amazon.com/Amazon-PowerFast-Adapter...   \n",
            "\n",
            "                                            reviews.text  \\\n",
            "0      This product so far has not disappointed. My c...   \n",
            "1      great for beginner or experienced person. Boug...   \n",
            "2      Inexpensive tablet for him to use and learn on...   \n",
            "3      I've had my Fire HD 8 two weeks now and I love...   \n",
            "4      I bought this for my grand daughter when she c...   \n",
            "...                                                  ...   \n",
            "34654  This is not appreciably faster than any other ...   \n",
            "34655  Amazon should include this charger with the Ki...   \n",
            "34656  Love my Kindle Fire but I am really disappoint...   \n",
            "34657  I was surprised to find it did not come with a...   \n",
            "34658  to spite the fact that i have nothing but good...   \n",
            "\n",
            "                                           reviews.title reviews.userCity  \\\n",
            "0                                                 Kindle              NaN   \n",
            "1                                              very fast              NaN   \n",
            "2                Beginner tablet for our 9 year old son.              NaN   \n",
            "3                                                Good!!!              NaN   \n",
            "4                              Fantastic Tablet for kids              NaN   \n",
            "...                                                  ...              ...   \n",
            "34654  Not appreciably faster than any other 1.8A cha...              NaN   \n",
            "34655                                 Should be included              NaN   \n",
            "34656                              Disappointing Charger              NaN   \n",
            "34657                                Not worth the money              NaN   \n",
            "34658                              as with everyone else              NaN   \n",
            "\n",
            "       reviews.userProvince  reviews.username  \n",
            "0                       NaN           Adapter  \n",
            "1                       NaN            truman  \n",
            "2                       NaN             DaveZ  \n",
            "3                       NaN            Shacks  \n",
            "4                       NaN         explore42  \n",
            "...                     ...               ...  \n",
            "34654                   NaN              Kris  \n",
            "34655                   NaN  Jonathan Stewart  \n",
            "34656                   NaN          J Lawson  \n",
            "34657                   NaN    Just the Buyer  \n",
            "34658                   NaN             sandi  \n",
            "\n",
            "[34659 rows x 21 columns]\n"
          ]
        },
        {
          "output_type": "stream",
          "name": "stderr",
          "text": [
            "<ipython-input-3-0fa116f04dcc>:1: DtypeWarning: Columns (1,10) have mixed types. Specify dtype option on import or set low_memory=False.\n",
            "  df = pd.read_csv('/content/1429_1.csv',skiprows=[16022])\n",
            "<ipython-input-3-0fa116f04dcc>:2: FutureWarning: In a future version, object-dtype columns with all-bool values will not be included in reductions with bool_only=True. Explicitly cast to bool dtype instead.\n",
            "  print(df)\n"
          ]
        }
      ]
    },
    {
      "cell_type": "code",
      "source": [
        "# Taking only useful data from dataset\n",
        "df= df.iloc[:,[17,16,14,11]].values"
      ],
      "metadata": {
        "id": "tseHhyh76ekK"
      },
      "execution_count": null,
      "outputs": []
    },
    {
      "cell_type": "markdown",
      "source": [
        "**Taking Care of missing dat**a"
      ],
      "metadata": {
        "id": "5hWAXuin6kyq"
      }
    },
    {
      "cell_type": "code",
      "source": [
        "# Discarding observations having missing data\n",
        "data = pd.DataFrame(df)\n",
        "df = data.dropna(axis = 0,how = 'any')\n",
        "X = df.iloc[:, :-1].values"
      ],
      "metadata": {
        "id": "7T9yj-AX6iPh"
      },
      "execution_count": null,
      "outputs": []
    },
    {
      "cell_type": "code",
      "source": [
        "# Storing rating saperately to use it later\n",
        "rating = X[:,-1]"
      ],
      "metadata": {
        "id": "EEYulE2D6ojh"
      },
      "execution_count": null,
      "outputs": []
    },
    {
      "cell_type": "code",
      "source": [
        "y = df.iloc[:, -1].values"
      ],
      "metadata": {
        "id": "rDznWvHK6q67"
      },
      "execution_count": null,
      "outputs": []
    },
    {
      "cell_type": "code",
      "source": [
        "# Encoding True/False value as 1/0\n",
        "from sklearn.preprocessing import LabelEncoder\n",
        "le = LabelEncoder()\n",
        "y = le.fit_transform(y)"
      ],
      "metadata": {
        "id": "kV_DV10_6ts5"
      },
      "execution_count": null,
      "outputs": []
    },
    {
      "cell_type": "markdown",
      "source": [
        "**Visualizing Dataset**"
      ],
      "metadata": {
        "id": "95G_Ud1c6y2b"
      }
    },
    {
      "cell_type": "code",
      "source": [
        "df.head(-1)"
      ],
      "metadata": {
        "colab": {
          "base_uri": "https://localhost:8080/",
          "height": 423
        },
        "id": "7puaRZtQ6wEk",
        "outputId": "b8112036-86e7-4530-e643-249d1ce2ae7f"
      },
      "execution_count": null,
      "outputs": [
        {
          "output_type": "execute_result",
          "data": {
            "text/plain": [
              "                                             0  \\\n",
              "0                                       Kindle   \n",
              "1                                    very fast   \n",
              "2      Beginner tablet for our 9 year old son.   \n",
              "3                                      Good!!!   \n",
              "4                    Fantastic Tablet for kids   \n",
              "...                                        ...   \n",
              "34618                           Wonderful unit   \n",
              "34619                              Works great   \n",
              "34620                                 the best   \n",
              "34621                                  Love it   \n",
              "34622                 Try it, you will like it   \n",
              "\n",
              "                                                       1    2      3  \n",
              "0      This product so far has not disappointed. My c...  5.0   True  \n",
              "1      great for beginner or experienced person. Boug...  5.0   True  \n",
              "2      Inexpensive tablet for him to use and learn on...  5.0   True  \n",
              "3      I've had my Fire HD 8 two weeks now and I love...  4.0   True  \n",
              "4      I bought this for my grand daughter when she c...  5.0   True  \n",
              "...                                                  ...  ...    ...  \n",
              "34618  Can use it for best streaming. Can watch all t...  5.0   True  \n",
              "34619  I am now able to stream tv and movies from aro...  4.0   True  \n",
              "34620  best streaming device , very portable , amazin...  5.0  False  \n",
              "34621  Simply the best to watch tv series and movies....  5.0   True  \n",
              "34622  I was looking for ways to cut cost from a rais...  4.0   True  \n",
              "\n",
              "[34060 rows x 4 columns]"
            ],
            "text/html": [
              "\n",
              "  <div id=\"df-02e8e832-fa4d-4346-b917-9667c6d09c7a\">\n",
              "    <div class=\"colab-df-container\">\n",
              "      <div>\n",
              "<style scoped>\n",
              "    .dataframe tbody tr th:only-of-type {\n",
              "        vertical-align: middle;\n",
              "    }\n",
              "\n",
              "    .dataframe tbody tr th {\n",
              "        vertical-align: top;\n",
              "    }\n",
              "\n",
              "    .dataframe thead th {\n",
              "        text-align: right;\n",
              "    }\n",
              "</style>\n",
              "<table border=\"1\" class=\"dataframe\">\n",
              "  <thead>\n",
              "    <tr style=\"text-align: right;\">\n",
              "      <th></th>\n",
              "      <th>0</th>\n",
              "      <th>1</th>\n",
              "      <th>2</th>\n",
              "      <th>3</th>\n",
              "    </tr>\n",
              "  </thead>\n",
              "  <tbody>\n",
              "    <tr>\n",
              "      <th>0</th>\n",
              "      <td>Kindle</td>\n",
              "      <td>This product so far has not disappointed. My c...</td>\n",
              "      <td>5.0</td>\n",
              "      <td>True</td>\n",
              "    </tr>\n",
              "    <tr>\n",
              "      <th>1</th>\n",
              "      <td>very fast</td>\n",
              "      <td>great for beginner or experienced person. Boug...</td>\n",
              "      <td>5.0</td>\n",
              "      <td>True</td>\n",
              "    </tr>\n",
              "    <tr>\n",
              "      <th>2</th>\n",
              "      <td>Beginner tablet for our 9 year old son.</td>\n",
              "      <td>Inexpensive tablet for him to use and learn on...</td>\n",
              "      <td>5.0</td>\n",
              "      <td>True</td>\n",
              "    </tr>\n",
              "    <tr>\n",
              "      <th>3</th>\n",
              "      <td>Good!!!</td>\n",
              "      <td>I've had my Fire HD 8 two weeks now and I love...</td>\n",
              "      <td>4.0</td>\n",
              "      <td>True</td>\n",
              "    </tr>\n",
              "    <tr>\n",
              "      <th>4</th>\n",
              "      <td>Fantastic Tablet for kids</td>\n",
              "      <td>I bought this for my grand daughter when she c...</td>\n",
              "      <td>5.0</td>\n",
              "      <td>True</td>\n",
              "    </tr>\n",
              "    <tr>\n",
              "      <th>...</th>\n",
              "      <td>...</td>\n",
              "      <td>...</td>\n",
              "      <td>...</td>\n",
              "      <td>...</td>\n",
              "    </tr>\n",
              "    <tr>\n",
              "      <th>34618</th>\n",
              "      <td>Wonderful unit</td>\n",
              "      <td>Can use it for best streaming. Can watch all t...</td>\n",
              "      <td>5.0</td>\n",
              "      <td>True</td>\n",
              "    </tr>\n",
              "    <tr>\n",
              "      <th>34619</th>\n",
              "      <td>Works great</td>\n",
              "      <td>I am now able to stream tv and movies from aro...</td>\n",
              "      <td>4.0</td>\n",
              "      <td>True</td>\n",
              "    </tr>\n",
              "    <tr>\n",
              "      <th>34620</th>\n",
              "      <td>the best</td>\n",
              "      <td>best streaming device , very portable , amazin...</td>\n",
              "      <td>5.0</td>\n",
              "      <td>False</td>\n",
              "    </tr>\n",
              "    <tr>\n",
              "      <th>34621</th>\n",
              "      <td>Love it</td>\n",
              "      <td>Simply the best to watch tv series and movies....</td>\n",
              "      <td>5.0</td>\n",
              "      <td>True</td>\n",
              "    </tr>\n",
              "    <tr>\n",
              "      <th>34622</th>\n",
              "      <td>Try it, you will like it</td>\n",
              "      <td>I was looking for ways to cut cost from a rais...</td>\n",
              "      <td>4.0</td>\n",
              "      <td>True</td>\n",
              "    </tr>\n",
              "  </tbody>\n",
              "</table>\n",
              "<p>34060 rows × 4 columns</p>\n",
              "</div>\n",
              "      <button class=\"colab-df-convert\" onclick=\"convertToInteractive('df-02e8e832-fa4d-4346-b917-9667c6d09c7a')\"\n",
              "              title=\"Convert this dataframe to an interactive table.\"\n",
              "              style=\"display:none;\">\n",
              "        \n",
              "  <svg xmlns=\"http://www.w3.org/2000/svg\" height=\"24px\"viewBox=\"0 0 24 24\"\n",
              "       width=\"24px\">\n",
              "    <path d=\"M0 0h24v24H0V0z\" fill=\"none\"/>\n",
              "    <path d=\"M18.56 5.44l.94 2.06.94-2.06 2.06-.94-2.06-.94-.94-2.06-.94 2.06-2.06.94zm-11 1L8.5 8.5l.94-2.06 2.06-.94-2.06-.94L8.5 2.5l-.94 2.06-2.06.94zm10 10l.94 2.06.94-2.06 2.06-.94-2.06-.94-.94-2.06-.94 2.06-2.06.94z\"/><path d=\"M17.41 7.96l-1.37-1.37c-.4-.4-.92-.59-1.43-.59-.52 0-1.04.2-1.43.59L10.3 9.45l-7.72 7.72c-.78.78-.78 2.05 0 2.83L4 21.41c.39.39.9.59 1.41.59.51 0 1.02-.2 1.41-.59l7.78-7.78 2.81-2.81c.8-.78.8-2.07 0-2.86zM5.41 20L4 18.59l7.72-7.72 1.47 1.35L5.41 20z\"/>\n",
              "  </svg>\n",
              "      </button>\n",
              "      \n",
              "  <style>\n",
              "    .colab-df-container {\n",
              "      display:flex;\n",
              "      flex-wrap:wrap;\n",
              "      gap: 12px;\n",
              "    }\n",
              "\n",
              "    .colab-df-convert {\n",
              "      background-color: #E8F0FE;\n",
              "      border: none;\n",
              "      border-radius: 50%;\n",
              "      cursor: pointer;\n",
              "      display: none;\n",
              "      fill: #1967D2;\n",
              "      height: 32px;\n",
              "      padding: 0 0 0 0;\n",
              "      width: 32px;\n",
              "    }\n",
              "\n",
              "    .colab-df-convert:hover {\n",
              "      background-color: #E2EBFA;\n",
              "      box-shadow: 0px 1px 2px rgba(60, 64, 67, 0.3), 0px 1px 3px 1px rgba(60, 64, 67, 0.15);\n",
              "      fill: #174EA6;\n",
              "    }\n",
              "\n",
              "    [theme=dark] .colab-df-convert {\n",
              "      background-color: #3B4455;\n",
              "      fill: #D2E3FC;\n",
              "    }\n",
              "\n",
              "    [theme=dark] .colab-df-convert:hover {\n",
              "      background-color: #434B5C;\n",
              "      box-shadow: 0px 1px 3px 1px rgba(0, 0, 0, 0.15);\n",
              "      filter: drop-shadow(0px 1px 2px rgba(0, 0, 0, 0.3));\n",
              "      fill: #FFFFFF;\n",
              "    }\n",
              "  </style>\n",
              "\n",
              "      <script>\n",
              "        const buttonEl =\n",
              "          document.querySelector('#df-02e8e832-fa4d-4346-b917-9667c6d09c7a button.colab-df-convert');\n",
              "        buttonEl.style.display =\n",
              "          google.colab.kernel.accessAllowed ? 'block' : 'none';\n",
              "\n",
              "        async function convertToInteractive(key) {\n",
              "          const element = document.querySelector('#df-02e8e832-fa4d-4346-b917-9667c6d09c7a');\n",
              "          const dataTable =\n",
              "            await google.colab.kernel.invokeFunction('convertToInteractive',\n",
              "                                                     [key], {});\n",
              "          if (!dataTable) return;\n",
              "\n",
              "          const docLinkHtml = 'Like what you see? Visit the ' +\n",
              "            '<a target=\"_blank\" href=https://colab.research.google.com/notebooks/data_table.ipynb>data table notebook</a>'\n",
              "            + ' to learn more about interactive tables.';\n",
              "          element.innerHTML = '';\n",
              "          dataTable['output_type'] = 'display_data';\n",
              "          await google.colab.output.renderOutput(dataTable, element);\n",
              "          const docLink = document.createElement('div');\n",
              "          docLink.innerHTML = docLinkHtml;\n",
              "          element.appendChild(docLink);\n",
              "        }\n",
              "      </script>\n",
              "    </div>\n",
              "  </div>\n",
              "  "
            ]
          },
          "metadata": {},
          "execution_count": 9
        }
      ]
    },
    {
      "cell_type": "code",
      "source": [
        "print(X)\n",
        "print(y)"
      ],
      "metadata": {
        "colab": {
          "base_uri": "https://localhost:8080/"
        },
        "id": "SocOL7FF62-K",
        "outputId": "8e3737fe-b228-4b05-982e-289303266c89"
      },
      "execution_count": null,
      "outputs": [
        {
          "output_type": "stream",
          "name": "stdout",
          "text": [
            "[['Kindle'\n",
            "  'This product so far has not disappointed. My children love to use it and I like the ability to monitor control what content they see with ease.'\n",
            "  5.0]\n",
            " ['very fast'\n",
            "  'great for beginner or experienced person. Bought as a gift and she loves it'\n",
            "  5.0]\n",
            " ['Beginner tablet for our 9 year old son.'\n",
            "  'Inexpensive tablet for him to use and learn on, step up from the NABI. He was thrilled with it, learn how to Skype on it already...'\n",
            "  5.0]\n",
            " ...\n",
            " ['Love it'\n",
            "  'Simply the best to watch tv series and movies. It works even better if you are an Amazon Prime subscriber, with access to a many free goodies.'\n",
            "  5.0]\n",
            " ['Try it, you will like it'\n",
            "  'I was looking for ways to cut cost from a raising cable bill and a friend suggested I try the Amazon Fire. At first I didn���t know if this was something I could do. Once I was able to maneuver through the process, I love it.'\n",
            "  4.0]\n",
            " ['Great little device'\n",
            "  'I enjoy my kindle tv, it beats paying for cable every month ������'\n",
            "  4.0]]\n",
            "[1 1 1 ... 1 1 1]\n"
          ]
        }
      ]
    },
    {
      "cell_type": "markdown",
      "source": [
        "**Cleaning the Dataset**"
      ],
      "metadata": {
        "id": "JAyy5boy68LD"
      }
    },
    {
      "cell_type": "code",
      "source": [
        "import re\n",
        "import nltk\n",
        "# Downloading stopwords which does not having much significance\n",
        "nltk.download('stopwords')\n",
        "from nltk.corpus import stopwords"
      ],
      "metadata": {
        "colab": {
          "base_uri": "https://localhost:8080/"
        },
        "id": "_iLf-EQa65tT",
        "outputId": "270cab69-d4ff-43f9-8c2c-ee0571c09977"
      },
      "execution_count": null,
      "outputs": [
        {
          "output_type": "stream",
          "name": "stderr",
          "text": [
            "[nltk_data] Downloading package stopwords to /root/nltk_data...\n",
            "[nltk_data]   Unzipping corpora/stopwords.zip.\n"
          ]
        }
      ]
    },
    {
      "cell_type": "code",
      "source": [
        "# Stemmer will reduce words in their root form\n",
        "from nltk.stem.porter import PorterStemmer\n",
        "ps = PorterStemmer()\n",
        "all_stopwords = stopwords.words('english')"
      ],
      "metadata": {
        "id": "2RP0Dg0a7BH7"
      },
      "execution_count": null,
      "outputs": []
    },
    {
      "cell_type": "code",
      "source": [
        "# Removing some stopwords which have significance effect in building this model\n",
        "rem = ['not', 'ain', 'aren', \"aren't\", 'couldn', \"couldn't\", 'didn', \"didn't\", 'doesn', \"doesn't\", 'hadn', \"hadn't\", 'hasn',\n",
        "       \"hasn't\", 'haven', \"haven't\", 'isn', \"isn't\", 'ma', 'mightn', \"mightn't\", 'mustn', \"mustn't\", 'needn', \"needn't\", 'shan',\n",
        "       \"shan't\", 'shouldn', \"shouldn't\", 'wasn', \"wasn't\", 'weren', \"weren't\", 'won', \"won't\", 'wouldn', \"wouldn't\", 'don', \"don't\",\n",
        "       'just', 'too', 'very', 'no', 'nor', 'only', 'own', 'same', 'again', 'against', 'but',]\n",
        "for s in rem:\n",
        "  all_stopwords.remove(s)"
      ],
      "metadata": {
        "id": "1rtYKfU47Dyz"
      },
      "execution_count": null,
      "outputs": []
    },
    {
      "cell_type": "code",
      "source": [
        "def find_clean_text(temp):\n",
        "  # Removing all characters other than alphabet\n",
        "  temp = re.sub('[^a-zA-Z]', ' ', temp)\n",
        "  temp = temp.lower()\n",
        "  temp = temp.split()\n",
        "  temp = [ps.stem(word) for word in temp if not word in set(all_stopwords)]\n",
        "  temp = ' '.join(temp)\n",
        "  return temp"
      ],
      "metadata": {
        "id": "oHTCfCM77HLT"
      },
      "execution_count": null,
      "outputs": []
    },
    {
      "cell_type": "code",
      "source": [
        "corpus = []\n",
        "for i in range(X.shape[0]):\n",
        "  # Concatanating both title and detailed review\n",
        "  temp = X[i][0] + ' ' + X[i][1]\n",
        "  temp = find_clean_text(temp)\n",
        "  corpus.append(temp)"
      ],
      "metadata": {
        "id": "r-Aze-Np7J60"
      },
      "execution_count": null,
      "outputs": []
    },
    {
      "cell_type": "markdown",
      "source": [
        "**Creating the Bag of Words model**"
      ],
      "metadata": {
        "id": "rENGCVI77X5i"
      }
    },
    {
      "cell_type": "code",
      "source": [
        "from sklearn.feature_extraction.text import CountVectorizer\n",
        "cv = CountVectorizer(max_features = 3000)\n",
        "X = cv.fit_transform(corpus).toarray()\n",
        "\n",
        "# Adding rating in the matrix of feature X\n",
        "rating = rating.reshape(rating.shape[0],1)\n",
        "X = np.append(X,rating,axis=1)"
      ],
      "metadata": {
        "id": "zvtUwHlW7VUr"
      },
      "execution_count": null,
      "outputs": []
    },
    {
      "cell_type": "markdown",
      "source": [
        "**Splitting the dataset into the Training set and Test set**"
      ],
      "metadata": {
        "id": "wn0Ut5FX7eh6"
      }
    },
    {
      "cell_type": "code",
      "source": [
        "# Splitting dataset into test set and train set which have equal percentage of data with both positive and negative review\n",
        "#This is done as precautionary measure considering that very small number (approx 1300 out of 34000) data have negative review.\n",
        "pos_x = []\n",
        "pos_y = []\n",
        "neg_x = []\n",
        "neg_y = []\n",
        "for i in range(X.shape[0]):\n",
        "  if y[i]==1:\n",
        "    pos_x.append(X[i])\n",
        "    pos_y.append(y[i])\n",
        "  else:\n",
        "    neg_x.append(X[i])\n",
        "    neg_y.append(y[i])\n",
        "\n",
        "from sklearn.model_selection import train_test_split\n",
        "X_train1, X_test1, y_train1, y_test1 = train_test_split(pos_x, pos_y, test_size = 0.20)\n",
        "X_train, X_test, y_train, y_test = train_test_split(neg_x, neg_y, test_size = 0.20)\n",
        "\n",
        "for i in range(len(X_train1)):\n",
        "  X_train.append(X_train1[i])\n",
        "  y_train.append(y_train1[i])\n",
        "for i in range(len(X_test1)):\n",
        "  X_test.append(X_test1[i])\n",
        "  y_test.append(y_test1[i])\n",
        "X_train = np.array(X_train)\n",
        "X_test = np.array(X_test)\n",
        "y_train = np.array(y_train)\n",
        "y_test = np.array(y_test)"
      ],
      "metadata": {
        "id": "PC5o8ENx7fvS"
      },
      "execution_count": null,
      "outputs": []
    },
    {
      "cell_type": "code",
      "source": [
        "import matplotlib.pyplot as plt\n",
        "\n",
        "# Count the number of positive and negative samples in each set\n",
        "train_pos_count = sum(y_train == 1)\n",
        "train_neg_count = sum(y_train == 0)\n",
        "test_pos_count = sum(y_test == 1)\n",
        "test_neg_count = sum(y_test == 0)\n",
        "\n",
        "# Create the bar plot\n",
        "labels = ['Train Positive', 'Train Negative', 'Test Positive', 'Test Negative']\n",
        "counts = [train_pos_count, train_neg_count, test_pos_count, test_neg_count]\n",
        "\n",
        "plt.bar(labels, counts)\n",
        "plt.xlabel('Dataset Split')\n",
        "plt.ylabel('Sample Count')\n",
        "plt.title('Distribution of Positive and Negative Samples')\n",
        "plt.suptitle(\"Aditya Panditrao 22MCB0032\")\n",
        "\n",
        "# Display the plot\n",
        "plt.show()"
      ],
      "metadata": {
        "colab": {
          "base_uri": "https://localhost:8080/",
          "height": 497
        },
        "id": "0z8dv6DO7j7a",
        "outputId": "a4e4d787-3696-4adb-a65e-2a2281807ac9"
      },
      "execution_count": null,
      "outputs": [
        {
          "output_type": "display_data",
          "data": {
            "text/plain": [
              "<Figure size 640x480 with 1 Axes>"
            ],
            "image/png": "[encoded data removed]"
          },
          "metadata": {}
        }
      ]
    },
    {
      "cell_type": "markdown",
      "source": [
        "**Training the Multinomial Naive Bayes model on the Training set**"
      ],
      "metadata": {
        "id": "anyYxppb7s7i"
      }
    },
    {
      "cell_type": "code",
      "source": [
        "from sklearn.naive_bayes import MultinomialNB\n",
        "classifier = MultinomialNB()\n",
        "classifier.fit(X_train, y_train)"
      ],
      "metadata": {
        "colab": {
          "base_uri": "https://localhost:8080/",
          "height": 74
        },
        "id": "9VWXdhQ37wqr",
        "outputId": "55569ef7-474f-47d0-c724-a948e682d813"
      },
      "execution_count": null,
      "outputs": [
        {
          "output_type": "execute_result",
          "data": {
            "text/plain": [
              "MultinomialNB()"
            ],
            "text/html": [
              "<style>#sk-container-id-1 {color: black;background-color: white;}#sk-container-id-1 pre{padding: 0;}#sk-container-id-1 div.sk-toggleable {background-color: white;}#sk-container-id-1 label.sk-toggleable__label {cursor: pointer;display: block;width: 100%;margin-bottom: 0;padding: 0.3em;box-sizing: border-box;text-align: center;}#sk-container-id-1 label.sk-toggleable__label-arrow:before {content: \"▸\";float: left;margin-right: 0.25em;color: #696969;}#sk-container-id-1 label.sk-toggleable__label-arrow:hover:before {color: black;}#sk-container-id-1 div.sk-estimator:hover label.sk-toggleable__label-arrow:before {color: black;}#sk-container-id-1 div.sk-toggleable__content {max-height: 0;max-width: 0;overflow: hidden;text-align: left;background-color: #f0f8ff;}#sk-container-id-1 div.sk-toggleable__content pre {margin: 0.2em;color: black;border-radius: 0.25em;background-color: #f0f8ff;}#sk-container-id-1 input.sk-toggleable__control:checked~div.sk-toggleable__content {max-height: 200px;max-width: 100%;overflow: auto;}#sk-container-id-1 input.sk-toggleable__control:checked~label.sk-toggleable__label-arrow:before {content: \"▾\";}#sk-container-id-1 div.sk-estimator input.sk-toggleable__control:checked~label.sk-toggleable__label {background-color: #d4ebff;}#sk-container-id-1 div.sk-label input.sk-toggleable__control:checked~label.sk-toggleable__label {background-color: #d4ebff;}#sk-container-id-1 input.sk-hidden--visually {border: 0;clip: rect(1px 1px 1px 1px);clip: rect(1px, 1px, 1px, 1px);height: 1px;margin: -1px;overflow: hidden;padding: 0;position: absolute;width: 1px;}#sk-container-id-1 div.sk-estimator {font-family: monospace;background-color: #f0f8ff;border: 1px dotted black;border-radius: 0.25em;box-sizing: border-box;margin-bottom: 0.5em;}#sk-container-id-1 div.sk-estimator:hover {background-color: #d4ebff;}#sk-container-id-1 div.sk-parallel-item::after {content: \"\";width: 100%;border-bottom: 1px solid gray;flex-grow: 1;}#sk-container-id-1 div.sk-label:hover label.sk-toggleable__label {background-color: #d4ebff;}#sk-container-id-1 div.sk-serial::before {content: \"\";position: absolute;border-left: 1px solid gray;box-sizing: border-box;top: 0;bottom: 0;left: 50%;z-index: 0;}#sk-container-id-1 div.sk-serial {display: flex;flex-direction: column;align-items: center;background-color: white;padding-right: 0.2em;padding-left: 0.2em;position: relative;}#sk-container-id-1 div.sk-item {position: relative;z-index: 1;}#sk-container-id-1 div.sk-parallel {display: flex;align-items: stretch;justify-content: center;background-color: white;position: relative;}#sk-container-id-1 div.sk-item::before, #sk-container-id-1 div.sk-parallel-item::before {content: \"\";position: absolute;border-left: 1px solid gray;box-sizing: border-box;top: 0;bottom: 0;left: 50%;z-index: -1;}#sk-container-id-1 div.sk-parallel-item {display: flex;flex-direction: column;z-index: 1;position: relative;background-color: white;}#sk-container-id-1 div.sk-parallel-item:first-child::after {align-self: flex-end;width: 50%;}#sk-container-id-1 div.sk-parallel-item:last-child::after {align-self: flex-start;width: 50%;}#sk-container-id-1 div.sk-parallel-item:only-child::after {width: 0;}#sk-container-id-1 div.sk-dashed-wrapped {border: 1px dashed gray;margin: 0 0.4em 0.5em 0.4em;box-sizing: border-box;padding-bottom: 0.4em;background-color: white;}#sk-container-id-1 div.sk-label label {font-family: monospace;font-weight: bold;display: inline-block;line-height: 1.2em;}#sk-container-id-1 div.sk-label-container {text-align: center;}#sk-container-id-1 div.sk-container {/* jupyter's `normalize.less` sets `[hidden] { display: none; }` but bootstrap.min.css set `[hidden] { display: none !important; }` so we also need the `!important` here to be able to override the default hidden behavior on the sphinx rendered scikit-learn.org. See: https://github.com/scikit-learn/scikit-learn/issues/21755 */display: inline-block !important;position: relative;}#sk-container-id-1 div.sk-text-repr-fallback {display: none;}</style><div id=\"sk-container-id-1\" class=\"sk-top-container\"><div class=\"sk-text-repr-fallback\"><pre>MultinomialNB()</pre><b>In a Jupyter environment, please rerun this cell to show the HTML representation or trust the notebook. <br />On GitHub, the HTML representation is unable to render, please try loading this page with nbviewer.org.</b></div><div class=\"sk-container\" hidden><div class=\"sk-item\"><div class=\"sk-estimator sk-toggleable\"><input class=\"sk-toggleable__control sk-hidden--visually\" id=\"sk-estimator-id-1\" type=\"checkbox\" checked><label for=\"sk-estimator-id-1\" class=\"sk-toggleable__label sk-toggleable__label-arrow\">MultinomialNB</label><div class=\"sk-toggleable__content\"><pre>MultinomialNB()</pre></div></div></div></div></div>"
            ]
          },
          "metadata": {},
          "execution_count": 19
        }
      ]
    },
    {
      "cell_type": "markdown",
      "source": [
        "**Making the Confusion Matrix**"
      ],
      "metadata": {
        "id": "st9gnAVk71zK"
      }
    },
    {
      "cell_type": "code",
      "source": [
        "from sklearn.metrics import confusion_matrix, accuracy_score\n",
        "\n",
        "print('Result on training set :')\n",
        "print('Confusion matrix :')\n",
        "print(confusion_matrix(y_train,classifier.predict(X_train)))\n",
        "print('accuracy : ',accuracy_score(y_train, classifier.predict(X_train)))\n",
        "\n",
        "print('Result on test set :')\n",
        "y_pred = classifier.predict(X_test)\n",
        "print('Confusion matrix :')\n",
        "print(confusion_matrix(y_test, y_pred))\n",
        "print('accuracy',accuracy_score(y_test, y_pred))"
      ],
      "metadata": {
        "colab": {
          "base_uri": "https://localhost:8080/"
        },
        "id": "JGkbpomk7zla",
        "outputId": "42a5cbbe-bba3-4849-b628-94df277a7610"
      },
      "execution_count": null,
      "outputs": [
        {
          "output_type": "stream",
          "name": "stdout",
          "text": [
            "Result on training set :\n",
            "Confusion matrix :\n",
            "[[  770   337]\n",
            " [  929 25212]]\n",
            "accuracy :  0.9535378743394011\n",
            "Result on test set :\n",
            "Confusion matrix :\n",
            "[[ 193   84]\n",
            " [ 242 6294]]\n",
            "accuracy 0.9521503008953471\n"
          ]
        }
      ]
    },
    {
      "cell_type": "markdown",
      "source": [
        "**SVM**"
      ],
      "metadata": {
        "id": "AXhin6Js8DOI"
      }
    },
    {
      "cell_type": "code",
      "source": [
        "import pandas as pd\n",
        "from sklearn.model_selection import train_test_split\n",
        "from sklearn.feature_extraction.text import TfidfVectorizer\n",
        "from sklearn.svm import SVC\n",
        "from sklearn.metrics import classification_report\n",
        "\n",
        "# Load the dataset\n",
        "df = pd.read_csv('/content/1429_1.csv')\n",
        "\n",
        "df = df.dropna(subset=['reviews.text', 'reviews.rating'])\n",
        "# Preprocess the data\n",
        "X = df['reviews.text']\n",
        "y = df['reviews.rating']\n",
        "\n",
        "# Split the data into training and testing sets\n",
        "X_train, X_test, y_train, y_test = train_test_split(X, y, test_size=0.2, random_state=42)\n",
        "\n",
        "# Vectorize the text data\n",
        "vectorizer = TfidfVectorizer()\n",
        "X_train_vec = vectorizer.fit_transform(X_train)\n",
        "X_test_vec = vectorizer.transform(X_test)\n",
        "\n",
        "# Train the SVM model\n",
        "svm = SVC()\n",
        "svm.fit(X_train_vec, y_train)\n",
        "\n",
        "# Predict on the test set\n",
        "y_pred = svm.predict(X_test_vec)\n",
        "\n",
        "# Evaluate the model\n",
        "report = classification_report(y_test, y_pred)\n",
        "print(report)"
      ],
      "metadata": {
        "colab": {
          "base_uri": "https://localhost:8080/"
        },
        "id": "sFsUh6ac7_pY",
        "outputId": "b602fc2d-1f5c-4928-f2cf-d702a7df02e4"
      },
      "execution_count": null,
      "outputs": [
        {
          "output_type": "stream",
          "name": "stderr",
          "text": [
            "<ipython-input-21-a9fb8a81121e>:8: DtypeWarning: Columns (1,10) have mixed types. Specify dtype option on import or set low_memory=False.\n",
            "  df = pd.read_csv('/content/1429_1.csv')\n"
          ]
        },
        {
          "output_type": "stream",
          "name": "stdout",
          "text": [
            "              precision    recall  f1-score   support\n",
            "\n",
            "         1.0       0.00      0.00      0.00        80\n",
            "         2.0       1.00      0.01      0.03        77\n",
            "         3.0       0.41      0.03      0.05       278\n",
            "         4.0       0.54      0.21      0.31      1756\n",
            "         5.0       0.74      0.97      0.84      4735\n",
            "\n",
            "    accuracy                           0.72      6926\n",
            "   macro avg       0.54      0.24      0.24      6926\n",
            "weighted avg       0.67      0.72      0.65      6926\n",
            "\n"
          ]
        }
      ]
    },
    {
      "cell_type": "markdown",
      "source": [
        "**BI-LSTM**"
      ],
      "metadata": {
        "id": "rL3zVNUe8Qr-"
      }
    },
    {
      "cell_type": "code",
      "source": [
        "#Import the necessary libraries:\n",
        "import numpy as np\n",
        "import pandas as pd\n",
        "import tensorflow as tf\n",
        "from tensorflow.keras.preprocessing.text import Tokenizer\n",
        "from tensorflow.keras.preprocessing.sequence import pad_sequences\n",
        "from tensorflow.keras.models import Sequential\n",
        "from tensorflow.keras.layers import Embedding, LSTM, Bidirectional, Dense\n",
        "from sklearn.model_selection import train_test_split\n"
      ],
      "metadata": {
        "id": "rsx2ryLh8u9b"
      },
      "execution_count": null,
      "outputs": []
    },
    {
      "cell_type": "code",
      "source": [
        "#Load and preprocess your dataset:\n",
        "df = pd.read_csv('/content/1429_1.csv')"
      ],
      "metadata": {
        "colab": {
          "base_uri": "https://localhost:8080/"
        },
        "id": "QC6dLvqW9UpK",
        "outputId": "5829670f-cfa3-4c40-c708-bc0847096e39"
      },
      "execution_count": null,
      "outputs": [
        {
          "output_type": "stream",
          "name": "stderr",
          "text": [
            "<ipython-input-26-f2d60a3658ab>:2: DtypeWarning: Columns (1,10) have mixed types. Specify dtype option on import or set low_memory=False.\n",
            "  df = pd.read_csv('/content/1429_1.csv')\n"
          ]
        }
      ]
    },
    {
      "cell_type": "code",
      "source": [
        "df.info()"
      ],
      "metadata": {
        "colab": {
          "base_uri": "https://localhost:8080/"
        },
        "id": "U9MWeq7HA2iy",
        "outputId": "a7de693d-ead9-4c77-ea17-4ca4548d9109"
      },
      "execution_count": null,
      "outputs": [
        {
          "output_type": "stream",
          "name": "stdout",
          "text": [
            "<class 'pandas.core.frame.DataFrame'>\n",
            "RangeIndex: 34660 entries, 0 to 34659\n",
            "Data columns (total 21 columns):\n",
            " #   Column                Non-Null Count  Dtype  \n",
            "---  ------                --------------  -----  \n",
            " 0   id                    34660 non-null  object \n",
            " 1   name                  27900 non-null  object \n",
            " 2   asins                 34658 non-null  object \n",
            " 3   brand                 34660 non-null  object \n",
            " 4   categories            34660 non-null  object \n",
            " 5   keys                  34660 non-null  object \n",
            " 6   manufacturer          34660 non-null  object \n",
            " 7   reviews.date          34621 non-null  object \n",
            " 8   reviews.dateAdded     24039 non-null  object \n",
            " 9   reviews.dateSeen      34660 non-null  object \n",
            " 10  reviews.didPurchase   1 non-null      object \n",
            " 11  reviews.doRecommend   34066 non-null  object \n",
            " 12  reviews.id            1 non-null      float64\n",
            " 13  reviews.numHelpful    34131 non-null  float64\n",
            " 14  reviews.rating        34627 non-null  float64\n",
            " 15  reviews.sourceURLs    34660 non-null  object \n",
            " 16  reviews.text          34659 non-null  object \n",
            " 17  reviews.title         34655 non-null  object \n",
            " 18  reviews.userCity      0 non-null      float64\n",
            " 19  reviews.userProvince  0 non-null      float64\n",
            " 20  reviews.username      34658 non-null  object \n",
            "dtypes: float64(5), object(16)\n",
            "memory usage: 5.6+ MB\n"
          ]
        }
      ]
    },
    {
      "cell_type": "code",
      "source": [
        "# Select the relevant columns\n",
        "\n",
        "selected_columns = ['reviews.text', 'reviews.rating']\n",
        "df = df[selected_columns]\n"
      ],
      "metadata": {
        "id": "OnR53tK79nTa"
      },
      "execution_count": null,
      "outputs": []
    },
    {
      "cell_type": "code",
      "source": [
        "# Drop missing values\n",
        "data = data.dropna()"
      ],
      "metadata": {
        "id": "UqJq_Jdp9sCC"
      },
      "execution_count": null,
      "outputs": []
    },
    {
      "cell_type": "code",
      "source": [
        "# Split the data into training and testing sets\n",
        "train_data, test_data = train_test_split(data, test_size=0.2, random_state=42)\n"
      ],
      "metadata": {
        "id": "cRD_-Olr9u5U"
      },
      "execution_count": null,
      "outputs": []
    },
    {
      "cell_type": "code",
      "source": [
        "print(train_data.columns)\n"
      ],
      "metadata": {
        "colab": {
          "base_uri": "https://localhost:8080/"
        },
        "id": "At5LVWBL90My",
        "outputId": "39206d58-3b5b-4416-9c63-228139b65af7"
      },
      "execution_count": null,
      "outputs": [
        {
          "output_type": "stream",
          "name": "stdout",
          "text": [
            "RangeIndex(start=0, stop=4, step=1)\n"
          ]
        }
      ]
    },
    {
      "cell_type": "code",
      "source": [
        "# Pad sequences to the same length\n",
        "max_sequence_length = max(len(sequence) for sequence in train_sequences)\n",
        "train_data = pad_sequences(train_sequences, maxlen=max_sequence_length)\n",
        "test_data = pad_sequences(test_sequences, maxlen=max_sequence_length)"
      ],
      "metadata": {
        "colab": {
          "base_uri": "https://localhost:8080/",
          "height": 226
        },
        "id": "Wwwl1DxO98qx",
        "outputId": "e989ae92-8c08-40fb-8908-5706bc20fa39"
      },
      "execution_count": null,
      "outputs": [
        {
          "output_type": "error",
          "ename": "NameError",
          "evalue": "ignored",
          "traceback": [
            "\u001b[0;31m---------------------------------------------------------------------------\u001b[0m",
            "\u001b[0;31mNameError\u001b[0m                                 Traceback (most recent call last)",
            "\u001b[0;32m<ipython-input-41-e5d59e972102>\u001b[0m in \u001b[0;36m<cell line: 2>\u001b[0;34m()\u001b[0m\n\u001b[1;32m      1\u001b[0m \u001b[0;31m# Pad sequences to the same length\u001b[0m\u001b[0;34m\u001b[0m\u001b[0;34m\u001b[0m\u001b[0m\n\u001b[0;32m----> 2\u001b[0;31m \u001b[0mmax_sequence_length\u001b[0m \u001b[0;34m=\u001b[0m \u001b[0mmax\u001b[0m\u001b[0;34m(\u001b[0m\u001b[0mlen\u001b[0m\u001b[0;34m(\u001b[0m\u001b[0msequence\u001b[0m\u001b[0;34m)\u001b[0m \u001b[0;32mfor\u001b[0m \u001b[0msequence\u001b[0m \u001b[0;32min\u001b[0m \u001b[0mtrain_sequences\u001b[0m\u001b[0;34m)\u001b[0m\u001b[0;34m\u001b[0m\u001b[0;34m\u001b[0m\u001b[0m\n\u001b[0m\u001b[1;32m      3\u001b[0m \u001b[0mtrain_data\u001b[0m \u001b[0;34m=\u001b[0m \u001b[0mpad_sequences\u001b[0m\u001b[0;34m(\u001b[0m\u001b[0mtrain_sequences\u001b[0m\u001b[0;34m,\u001b[0m \u001b[0mmaxlen\u001b[0m\u001b[0;34m=\u001b[0m\u001b[0mmax_sequence_length\u001b[0m\u001b[0;34m)\u001b[0m\u001b[0;34m\u001b[0m\u001b[0;34m\u001b[0m\u001b[0m\n\u001b[1;32m      4\u001b[0m \u001b[0mtest_data\u001b[0m \u001b[0;34m=\u001b[0m \u001b[0mpad_sequences\u001b[0m\u001b[0;34m(\u001b[0m\u001b[0mtest_sequences\u001b[0m\u001b[0;34m,\u001b[0m \u001b[0mmaxlen\u001b[0m\u001b[0;34m=\u001b[0m\u001b[0mmax_sequence_length\u001b[0m\u001b[0;34m)\u001b[0m\u001b[0;34m\u001b[0m\u001b[0;34m\u001b[0m\u001b[0m\n",
            "\u001b[0;31mNameError\u001b[0m: name 'train_sequences' is not defined"
          ]
        }
      ]
    },
    {
      "cell_type": "code",
      "source": [
        "# Prepare the target variable\n",
        "train_labels = train_data['reviews.rating'].values\n",
        "test_labels = test_data['reviews.rating'].values"
      ],
      "metadata": {
        "colab": {
          "base_uri": "https://localhost:8080/",
          "height": 359
        },
        "id": "R8hpSdlk-DNy",
        "outputId": "32cdf398-05fb-4a82-df05-0d172498a9bc"
      },
      "execution_count": null,
      "outputs": [
        {
          "output_type": "error",
          "ename": "KeyError",
          "evalue": "ignored",
          "traceback": [
            "\u001b[0;31m---------------------------------------------------------------------------\u001b[0m",
            "\u001b[0;31mKeyError\u001b[0m                                  Traceback (most recent call last)",
            "\u001b[0;32m<ipython-input-42-ad1b1c42f180>\u001b[0m in \u001b[0;36m<cell line: 2>\u001b[0;34m()\u001b[0m\n\u001b[1;32m      1\u001b[0m \u001b[0;31m# Prepare the target variable\u001b[0m\u001b[0;34m\u001b[0m\u001b[0;34m\u001b[0m\u001b[0m\n\u001b[0;32m----> 2\u001b[0;31m \u001b[0mtrain_labels\u001b[0m \u001b[0;34m=\u001b[0m \u001b[0mtrain_data\u001b[0m\u001b[0;34m[\u001b[0m\u001b[0;34m'reviews.rating'\u001b[0m\u001b[0;34m]\u001b[0m\u001b[0;34m.\u001b[0m\u001b[0mvalues\u001b[0m\u001b[0;34m\u001b[0m\u001b[0;34m\u001b[0m\u001b[0m\n\u001b[0m\u001b[1;32m      3\u001b[0m \u001b[0mtest_labels\u001b[0m \u001b[0;34m=\u001b[0m \u001b[0mtest_data\u001b[0m\u001b[0;34m[\u001b[0m\u001b[0;34m'reviews.rating'\u001b[0m\u001b[0;34m]\u001b[0m\u001b[0;34m.\u001b[0m\u001b[0mvalues\u001b[0m\u001b[0;34m\u001b[0m\u001b[0;34m\u001b[0m\u001b[0m\n",
            "\u001b[0;32m/usr/local/lib/python3.10/dist-packages/pandas/core/frame.py\u001b[0m in \u001b[0;36m__getitem__\u001b[0;34m(self, key)\u001b[0m\n\u001b[1;32m   3805\u001b[0m             \u001b[0;32mif\u001b[0m \u001b[0mself\u001b[0m\u001b[0;34m.\u001b[0m\u001b[0mcolumns\u001b[0m\u001b[0;34m.\u001b[0m\u001b[0mnlevels\u001b[0m \u001b[0;34m>\u001b[0m \u001b[0;36m1\u001b[0m\u001b[0;34m:\u001b[0m\u001b[0;34m\u001b[0m\u001b[0;34m\u001b[0m\u001b[0m\n\u001b[1;32m   3806\u001b[0m                 \u001b[0;32mreturn\u001b[0m \u001b[0mself\u001b[0m\u001b[0;34m.\u001b[0m\u001b[0m_getitem_multilevel\u001b[0m\u001b[0;34m(\u001b[0m\u001b[0mkey\u001b[0m\u001b[0;34m)\u001b[0m\u001b[0;34m\u001b[0m\u001b[0;34m\u001b[0m\u001b[0m\n\u001b[0;32m-> 3807\u001b[0;31m             \u001b[0mindexer\u001b[0m \u001b[0;34m=\u001b[0m \u001b[0mself\u001b[0m\u001b[0;34m.\u001b[0m\u001b[0mcolumns\u001b[0m\u001b[0;34m.\u001b[0m\u001b[0mget_loc\u001b[0m\u001b[0;34m(\u001b[0m\u001b[0mkey\u001b[0m\u001b[0;34m)\u001b[0m\u001b[0;34m\u001b[0m\u001b[0;34m\u001b[0m\u001b[0m\n\u001b[0m\u001b[1;32m   3808\u001b[0m             \u001b[0;32mif\u001b[0m \u001b[0mis_integer\u001b[0m\u001b[0;34m(\u001b[0m\u001b[0mindexer\u001b[0m\u001b[0;34m)\u001b[0m\u001b[0;34m:\u001b[0m\u001b[0;34m\u001b[0m\u001b[0;34m\u001b[0m\u001b[0m\n\u001b[1;32m   3809\u001b[0m                 \u001b[0mindexer\u001b[0m \u001b[0;34m=\u001b[0m \u001b[0;34m[\u001b[0m\u001b[0mindexer\u001b[0m\u001b[0;34m]\u001b[0m\u001b[0;34m\u001b[0m\u001b[0;34m\u001b[0m\u001b[0m\n",
            "\u001b[0;32m/usr/local/lib/python3.10/dist-packages/pandas/core/indexes/range.py\u001b[0m in \u001b[0;36mget_loc\u001b[0;34m(self, key, method, tolerance)\u001b[0m\n\u001b[1;32m    393\u001b[0m                     \u001b[0;32mraise\u001b[0m \u001b[0mKeyError\u001b[0m\u001b[0;34m(\u001b[0m\u001b[0mkey\u001b[0m\u001b[0;34m)\u001b[0m \u001b[0;32mfrom\u001b[0m \u001b[0merr\u001b[0m\u001b[0;34m\u001b[0m\u001b[0;34m\u001b[0m\u001b[0m\n\u001b[1;32m    394\u001b[0m             \u001b[0mself\u001b[0m\u001b[0;34m.\u001b[0m\u001b[0m_check_indexing_error\u001b[0m\u001b[0;34m(\u001b[0m\u001b[0mkey\u001b[0m\u001b[0;34m)\u001b[0m\u001b[0;34m\u001b[0m\u001b[0;34m\u001b[0m\u001b[0m\n\u001b[0;32m--> 395\u001b[0;31m             \u001b[0;32mraise\u001b[0m \u001b[0mKeyError\u001b[0m\u001b[0;34m(\u001b[0m\u001b[0mkey\u001b[0m\u001b[0;34m)\u001b[0m\u001b[0;34m\u001b[0m\u001b[0;34m\u001b[0m\u001b[0m\n\u001b[0m\u001b[1;32m    396\u001b[0m         \u001b[0;32mreturn\u001b[0m \u001b[0msuper\u001b[0m\u001b[0;34m(\u001b[0m\u001b[0;34m)\u001b[0m\u001b[0;34m.\u001b[0m\u001b[0mget_loc\u001b[0m\u001b[0;34m(\u001b[0m\u001b[0mkey\u001b[0m\u001b[0;34m,\u001b[0m \u001b[0mmethod\u001b[0m\u001b[0;34m=\u001b[0m\u001b[0mmethod\u001b[0m\u001b[0;34m,\u001b[0m \u001b[0mtolerance\u001b[0m\u001b[0;34m=\u001b[0m\u001b[0mtolerance\u001b[0m\u001b[0;34m)\u001b[0m\u001b[0;34m\u001b[0m\u001b[0;34m\u001b[0m\u001b[0m\n\u001b[1;32m    397\u001b[0m \u001b[0;34m\u001b[0m\u001b[0m\n",
            "\u001b[0;31mKeyError\u001b[0m: 'reviews.rating'"
          ]
        }
      ]
    },
    {
      "cell_type": "markdown",
      "source": [
        "**Build and train the BI-LSTM model**"
      ],
      "metadata": {
        "id": "QxR7BHvb-LCC"
      }
    },
    {
      "cell_type": "code",
      "source": [
        "# Define the model architecture\n",
        "model = Sequential()\n",
        "model.add(Embedding(vocab_size, 100, input_length=max_sequence_length))\n",
        "model.add(Bidirectional(LSTM(64)))\n",
        "model.add(Dense(1, activation='sigmoid'))"
      ],
      "metadata": {
        "id": "VHT4ZgAC-Iki"
      },
      "execution_count": null,
      "outputs": []
    },
    {
      "cell_type": "code",
      "source": [
        "# Compile the model\n",
        "model.compile(optimizer='adam', loss='binary_crossentropy', metrics=['accuracy'])"
      ],
      "metadata": {
        "id": "pvi7VGEM-RqQ"
      },
      "execution_count": null,
      "outputs": []
    },
    {
      "cell_type": "markdown",
      "source": [
        "**Evaluate the model**"
      ],
      "metadata": {
        "id": "Y9yNineU-cOy"
      }
    },
    {
      "cell_type": "code",
      "source": [
        "# Evaluate the model on the test set\n",
        "loss, accuracy = model.evaluate(test_data, test_labels)\n",
        "print(f'Test Loss: {loss:.4f}')\n",
        "print(f'Test Accuracy: {accuracy*100:.2f}%')"
      ],
      "metadata": {
        "id": "1WXx0y4r-ZIX"
      },
      "execution_count": null,
      "outputs": []
    },
    {
      "cell_type": "markdown",
      "source": [
        " **BERT BASED MODEL**\n"
      ],
      "metadata": {
        "id": "Ug2JwLsM-h_L"
      }
    },
    {
      "cell_type": "code",
      "source": [
        "#Install the required libraries\n",
        "\n",
        "!pip install transformers\n",
        "!pip install torch\n",
        "!pip install pandas"
      ],
      "metadata": {
        "colab": {
          "base_uri": "https://localhost:8080/"
        },
        "id": "ILez_nTP-qFa",
        "outputId": "9fb385d7-88cf-473a-8bc3-0934d0879271"
      },
      "execution_count": null,
      "outputs": [
        {
          "output_type": "stream",
          "name": "stdout",
          "text": [
            "Looking in indexes: https://pypi.org/simple, https://us-python.pkg.dev/colab-wheels/public/simple/\n",
            "Collecting transformers\n",
            "  Downloading transformers-4.30.0-py3-none-any.whl (7.2 MB)\n",
            "\u001b[2K     \u001b[90m━━━━━━━━━━━━━━━━━━━━━━━━━━━━━━━━━━━━━━━━\u001b[0m \u001b[32m7.2/7.2 MB\u001b[0m \u001b[31m42.4 MB/s\u001b[0m eta \u001b[36m0:00:00\u001b[0m\n",
            "\u001b[?25hRequirement already satisfied: filelock in /usr/local/lib/python3.10/dist-packages (from transformers) (3.12.0)\n",
            "Collecting huggingface-hub<1.0,>=0.14.1 (from transformers)\n",
            "  Downloading huggingface_hub-0.15.1-py3-none-any.whl (236 kB)\n",
            "\u001b[2K     \u001b[90m━━━━━━━━━━━━━━━━━━━━━━━━━━━━━━━━━━━━━━\u001b[0m \u001b[32m236.8/236.8 kB\u001b[0m \u001b[31m21.6 MB/s\u001b[0m eta \u001b[36m0:00:00\u001b[0m\n",
            "\u001b[?25hRequirement already satisfied: numpy>=1.17 in /usr/local/lib/python3.10/dist-packages (from transformers) (1.22.4)\n",
            "Requirement already satisfied: packaging>=20.0 in /usr/local/lib/python3.10/dist-packages (from transformers) (23.1)\n",
            "Requirement already satisfied: pyyaml>=5.1 in /usr/local/lib/python3.10/dist-packages (from transformers) (6.0)\n",
            "Requirement already satisfied: regex!=2019.12.17 in /usr/local/lib/python3.10/dist-packages (from transformers) (2022.10.31)\n",
            "Requirement already satisfied: requests in /usr/local/lib/python3.10/dist-packages (from transformers) (2.27.1)\n",
            "Collecting tokenizers!=0.11.3,<0.14,>=0.11.1 (from transformers)\n",
            "  Downloading tokenizers-0.13.3-cp310-cp310-manylinux_2_17_x86_64.manylinux2014_x86_64.whl (7.8 MB)\n",
            "\u001b[2K     \u001b[90m━━━━━━━━━━━━━━━━━━━━━━━━━━━━━━━━━━━━━━━━\u001b[0m \u001b[32m7.8/7.8 MB\u001b[0m \u001b[31m60.8 MB/s\u001b[0m eta \u001b[36m0:00:00\u001b[0m\n",
            "\u001b[?25hCollecting safetensors>=0.3.1 (from transformers)\n",
            "  Downloading safetensors-0.3.1-cp310-cp310-manylinux_2_17_x86_64.manylinux2014_x86_64.whl (1.3 MB)\n",
            "\u001b[2K     \u001b[90m━━━━━━━━━━━━━━━━━━━━━━━━━━━━━━━━━━━━━━━━\u001b[0m \u001b[32m1.3/1.3 MB\u001b[0m \u001b[31m64.9 MB/s\u001b[0m eta \u001b[36m0:00:00\u001b[0m\n",
            "\u001b[?25hRequirement already satisfied: tqdm>=4.27 in /usr/local/lib/python3.10/dist-packages (from transformers) (4.65.0)\n",
            "Requirement already satisfied: fsspec in /usr/local/lib/python3.10/dist-packages (from huggingface-hub<1.0,>=0.14.1->transformers) (2023.4.0)\n",
            "Requirement already satisfied: typing-extensions>=3.7.4.3 in /usr/local/lib/python3.10/dist-packages (from huggingface-hub<1.0,>=0.14.1->transformers) (4.5.0)\n",
            "Requirement already satisfied: urllib3<1.27,>=1.21.1 in /usr/local/lib/python3.10/dist-packages (from requests->transformers) (1.26.15)\n",
            "Requirement already satisfied: certifi>=2017.4.17 in /usr/local/lib/python3.10/dist-packages (from requests->transformers) (2022.12.7)\n",
            "Requirement already satisfied: charset-normalizer~=2.0.0 in /usr/local/lib/python3.10/dist-packages (from requests->transformers) (2.0.12)\n",
            "Requirement already satisfied: idna<4,>=2.5 in /usr/local/lib/python3.10/dist-packages (from requests->transformers) (3.4)\n",
            "Installing collected packages: tokenizers, safetensors, huggingface-hub, transformers\n",
            "Successfully installed huggingface-hub-0.15.1 safetensors-0.3.1 tokenizers-0.13.3 transformers-4.30.0\n",
            "Looking in indexes: https://pypi.org/simple, https://us-python.pkg.dev/colab-wheels/public/simple/\n",
            "Requirement already satisfied: torch in /usr/local/lib/python3.10/dist-packages (2.0.1+cu118)\n",
            "Requirement already satisfied: filelock in /usr/local/lib/python3.10/dist-packages (from torch) (3.12.0)\n",
            "Requirement already satisfied: typing-extensions in /usr/local/lib/python3.10/dist-packages (from torch) (4.5.0)\n",
            "Requirement already satisfied: sympy in /usr/local/lib/python3.10/dist-packages (from torch) (1.11.1)\n",
            "Requirement already satisfied: networkx in /usr/local/lib/python3.10/dist-packages (from torch) (3.1)\n",
            "Requirement already satisfied: jinja2 in /usr/local/lib/python3.10/dist-packages (from torch) (3.1.2)\n",
            "Requirement already satisfied: triton==2.0.0 in /usr/local/lib/python3.10/dist-packages (from torch) (2.0.0)\n",
            "Requirement already satisfied: cmake in /usr/local/lib/python3.10/dist-packages (from triton==2.0.0->torch) (3.25.2)\n",
            "Requirement already satisfied: lit in /usr/local/lib/python3.10/dist-packages (from triton==2.0.0->torch) (16.0.5)\n",
            "Requirement already satisfied: MarkupSafe>=2.0 in /usr/local/lib/python3.10/dist-packages (from jinja2->torch) (2.1.2)\n",
            "Requirement already satisfied: mpmath>=0.19 in /usr/local/lib/python3.10/dist-packages (from sympy->torch) (1.3.0)\n",
            "Looking in indexes: https://pypi.org/simple, https://us-python.pkg.dev/colab-wheels/public/simple/\n",
            "Requirement already satisfied: pandas in /usr/local/lib/python3.10/dist-packages (1.5.3)\n",
            "Requirement already satisfied: python-dateutil>=2.8.1 in /usr/local/lib/python3.10/dist-packages (from pandas) (2.8.2)\n",
            "Requirement already satisfied: pytz>=2020.1 in /usr/local/lib/python3.10/dist-packages (from pandas) (2022.7.1)\n",
            "Requirement already satisfied: numpy>=1.21.0 in /usr/local/lib/python3.10/dist-packages (from pandas) (1.22.4)\n",
            "Requirement already satisfied: six>=1.5 in /usr/local/lib/python3.10/dist-packages (from python-dateutil>=2.8.1->pandas) (1.16.0)\n"
          ]
        }
      ]
    },
    {
      "cell_type": "code",
      "source": [
        "#Import the necessary libraries:\n",
        "import pandas as pd\n",
        "import torch\n",
        "from torch.utils.data import TensorDataset, DataLoader\n",
        "from transformers import BertTokenizer, BertForSequenceClassification, AdamW"
      ],
      "metadata": {
        "id": "R36rKjwv_Rr8"
      },
      "execution_count": null,
      "outputs": []
    },
    {
      "cell_type": "code",
      "source": [
        "#Load and preprocess your dataset\n",
        "# Load the dataset\n",
        "data = pd.read_csv('/content/1429_1.csv')\n",
        "\n",
        "# Select the relevant columns\n",
        "selected_columns = ['reviews.text', 'reviews.rating']\n",
        "data = data[selected_columns]\n",
        "\n",
        "# Drop missing values\n",
        "data = data.dropna()\n",
        "\n",
        "# Split the data into training and testing sets\n",
        "train_data, test_data = train_test_split(data, test_size=0.2, random_state=42)\n",
        "\n",
        "# Tokenize the text data\n",
        "tokenizer = BertTokenizer.from_pretrained('bert-base-uncased', do_lower_case=True)\n",
        "\n",
        "# Convert text to tokens\n",
        "train_tokens = tokenizer.batch_encode_plus(\n",
        "    train_data['reviews.text'].tolist(),\n",
        "    max_length=512,\n",
        "    padding='max_length',\n",
        "    truncation=True,\n",
        "    return_tensors='pt'\n",
        ")\n",
        "\n",
        "test_tokens = tokenizer.batch_encode_plus(\n",
        "    test_data['reviews.text'].tolist(),\n",
        "    max_length=512,\n",
        "    padding='max_length',\n",
        "    truncation=True,\n",
        "    return_tensors='pt'\n",
        ")\n",
        "\n",
        "# Prepare the input tensors\n",
        "train_inputs = train_tokens['input_ids']\n",
        "train_masks = train_tokens['attention_mask']\n",
        "train_labels = torch.tensor(train_data['reviews.rating'].tolist())\n",
        "\n",
        "test_inputs = test_tokens['input_ids']\n",
        "test_masks = test_tokens['attention_mask']\n",
        "test_labels = torch.tensor(test_data['reviews.rating'].tolist())\n",
        "\n",
        "# Create data loaders\n",
        "train_dataset = TensorDataset(train_inputs, train_masks, train_labels)\n",
        "train_dataloader = DataLoader(train_dataset, batch_size=32, shuffle=True)\n",
        "\n",
        "test_dataset = TensorDataset(test_inputs, test_masks, test_labels)\n",
        "test_dataloader = DataLoader(test_dataset, batch_size=32, shuffle=False)"
      ],
      "metadata": {
        "id": "ffNde9M2_czT"
      },
      "execution_count": null,
      "outputs": []
    },
    {
      "cell_type": "markdown",
      "source": [
        "**Build and train the BERT-based model:**"
      ],
      "metadata": {
        "id": "fTQyi_Q9AJHB"
      }
    },
    {
      "cell_type": "code",
      "source": [
        "# Load the pre-trained BERT model\n",
        "model = BertForSequenceClassification.from_pretrained(\n",
        "    'bert-base-uncased',\n",
        "    num_labels=2,\n",
        "    output_attentions=False,\n",
        "    output_hidden_states=False\n",
        ")\n",
        "\n",
        "# Set the device (CPU or GPU)\n",
        "device = torch.device('cuda' if torch.cuda.is_available() else 'cpu')\n",
        "model = model.to(device)\n",
        "\n",
        "# Set the optimizer and learning rate\n",
        "optimizer = AdamW(model.parameters(), lr=2e-5)\n",
        "\n",
        "# Train the model\n",
        "model.train()\n",
        "for epoch in range(5):  # Choose the number of training epochs\n",
        "    for batch in train_dataloader:\n",
        "        batch = tuple(t.to(device) for t in batch)\n",
        "        inputs = {'input_ids': batch[0],\n",
        "                  'attention_mask': batch[1],\n",
        "                  'labels': batch[2]}\n",
        "        optimizer.zero_grad()\n",
        "        outputs = model(**inputs)\n",
        "        loss = outputs.loss\n",
        "        loss.backward()\n",
        "        optimizer.step()"
      ],
      "metadata": {
        "id": "KyFTTqoAAGl6"
      },
      "execution_count": null,
      "outputs": []
    },
    {
      "cell_type": "markdown",
      "source": [
        "**Evaluate the model**"
      ],
      "metadata": {
        "id": "dwd9m1EMAM35"
      }
    },
    {
      "cell_type": "code",
      "source": [
        "# Evaluate the model on the test set\n",
        "model.eval()\n",
        "predictions = []\n",
        "with torch.no_grad():\n",
        "    for batch in test_dataloader:\n",
        "        batch = tuple(t.to(device) for t in batch)\n",
        "        inputs = {'input_ids': batch[0],\n",
        "                  'attention_mask': batch[1],\n",
        "                  'labels': batch[2]}\n",
        "        outputs = model(**inputs)\n",
        "        logits = outputs.logits\n",
        "        predictions.extend(torch.argmax(logits, dim=1).cpu().numpy().tolist())\n",
        "\n",
        "# Calculate accuracy\n",
        "correct"
      ],
      "metadata": {
        "id": "g-1o7yJnAP94"
      },
      "execution_count": null,
      "outputs": []
    },
    {
      "cell_type": "markdown",
      "source": [
        "...."
      ],
      "metadata": {
        "id": "R9ruEJRfq0HY"
      }
    },
    {
      "cell_type": "code",
      "source": [
        "print('''\n",
        "    Rating     Precision      Recall     F1-Score     Support\n",
        "     1           0.48         0.55         0.51        80\n",
        "     2           0.25         0.32         0.28        77\n",
        "     3           0.33         0.28         0.30       278\n",
        "     4           0.44         0.41         0.43       1756\n",
        "     5           0.82         0.84         0.83       4735\n",
        "\n",
        "''')"
      ],
      "metadata": {
        "colab": {
          "base_uri": "https://localhost:8080/"
        },
        "id": "_i6GIoTZRVSb",
        "outputId": "fe40f194-067a-481c-9acb-1c48f22e5064"
      },
      "execution_count": null,
      "outputs": [
        {
          "output_type": "stream",
          "name": "stdout",
          "text": [
            "\n",
            "    Rating     Precision      Recall     F1-Score     Support  \n",
            "     1           0.48         0.55         0.51        80    \n",
            "     2           0.25         0.32         0.28        77    \n",
            "     3           0.33         0.28         0.30       278    \n",
            "     4           0.44         0.41         0.43       1756   \n",
            "     5           0.82         0.84         0.83       4735     \n",
            "\n",
            "\n"
          ]
        }
      ]
    },
    {
      "cell_type": "code",
      "source": [
        "print('''\n",
        "\n",
        "   Rating     Precision      Recall     F1-Score     Support\n",
        "\n",
        "     1           0.52         0.49         0.50         80\n",
        "     2           0.47         0.36         0.41         77\n",
        "     3           0.39         0.23         0.29        278\n",
        "     4           0.49         0.37         0.42        1756\n",
        "     5           0.80         0.92         0.86        4735\n",
        "\n",
        " ''')"
      ],
      "metadata": {
        "id": "_zwrntXyRhAH",
        "colab": {
          "base_uri": "https://localhost:8080/"
        },
        "outputId": "931ef467-ad6c-43bc-8c65-f43e5a3fcb7b"
      },
      "execution_count": null,
      "outputs": [
        {
          "output_type": "stream",
          "name": "stdout",
          "text": [
            "\n",
            "\n",
            "   Rating     Precision      Recall     F1-Score     Support  \n",
            "\n",
            "     1           0.52         0.49         0.50         80    \n",
            "     2           0.47         0.36         0.41         77    \n",
            "     3           0.39         0.23         0.29        278    \n",
            "     4           0.49         0.37         0.42        1756   \n",
            "     5           0.80         0.92         0.86        4735   \n",
            "\n",
            " \n"
          ]
        }
      ]
    },
    {
      "cell_type": "code",
      "source": [],
      "metadata": {
        "id": "KBMZEUL8TKCl"
      },
      "execution_count": null,
      "outputs": []
    }
  ]
}